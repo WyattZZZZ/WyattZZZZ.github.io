{
 "cells": [
  {
   "cell_type": "markdown",
   "metadata": {},
   "source": [
    "# Leaflet cluster map of talk locations\n",
    "\n",
    "Run this from the _talks/ directory, which contains .md files of all your talks. This scrapes the location YAML field from each .md file, geolocates it with geopy/Nominatim, and uses the getorg library to output data, HTML, and Javascript for a standalone cluster map."
   ]
  },
  {
   "cell_type": "code",
   "metadata": {
    "collapsed": false,
    "ExecuteTime": {
     "end_time": "2025-02-18T11:22:31.264696Z",
     "start_time": "2025-02-18T11:22:31.262073Z"
    }
   },
   "source": [
    "import glob\n",
    "import getorg\n",
    "from geopy import Nominatim"
   ],
   "outputs": [],
   "execution_count": 17
  },
  {
   "cell_type": "code",
   "metadata": {
    "collapsed": false,
    "ExecuteTime": {
     "end_time": "2025-02-18T11:22:31.658978Z",
     "start_time": "2025-02-18T11:22:31.654619Z"
    }
   },
   "source": "g = glob.glob(\"*/*.md\")",
   "outputs": [],
   "execution_count": 18
  },
  {
   "cell_type": "code",
   "metadata": {
    "collapsed": true,
    "ExecuteTime": {
     "end_time": "2025-02-18T11:22:32.212056Z",
     "start_time": "2025-02-18T11:22:32.182429Z"
    }
   },
   "source": [
    "geocoder = Nominatim(user_agent=\"activities-map\")\n",
    "location_dict = {}\n",
    "location = \"\"\n",
    "permalink = \"\"\n",
    "title = \"\""
   ],
   "outputs": [],
   "execution_count": 19
  },
  {
   "cell_type": "code",
   "metadata": {
    "collapsed": false,
    "ExecuteTime": {
     "end_time": "2025-02-18T11:23:00.338731Z",
     "start_time": "2025-02-18T11:22:32.606490Z"
    }
   },
   "source": [
    "\n",
    "for file in g:\n",
    "    with open(file, 'r') as f:\n",
    "        lines = f.read()\n",
    "        if lines.find('location: \"') > 1:\n",
    "            loc_start = lines.find('location: \"') + 11\n",
    "            lines_trim = lines[loc_start:]\n",
    "            loc_end = lines_trim.find('\"')\n",
    "            location = lines_trim[:loc_end]\n",
    "                            \n",
    "           \n",
    "        location_dict[location] = geocoder.geocode(location)\n",
    "        print(location, \"\\n\", location_dict[location])\n"
   ],
   "outputs": [
    {
     "name": "stdout",
     "output_type": "stream",
     "text": [
      " \n",
      " None\n",
      "Singapore, Singapore \n",
      " Singapore\n",
      "Suzhou, China \n",
      " 苏州市, 江苏省, 中国\n",
      "Suzhou, China \n",
      " 苏州市, 江苏省, 中国\n",
      "Suzhou, China \n",
      " 苏州市, 江苏省, 中国\n",
      "Suzhou, China \n",
      " 苏州市, 江苏省, 中国\n",
      "Suzhou, China \n",
      " 苏州市, 江苏省, 中国\n",
      "Suzhou, China \n",
      " 苏州市, 江苏省, 中国\n",
      "Suzhou, China \n",
      " 苏州市, 江苏省, 中国\n",
      "Suzhou, China \n",
      " 苏州市, 江苏省, 中国\n",
      "Suzhou, China \n",
      " 苏州市, 江苏省, 中国\n",
      "Suzhou, China \n",
      " 苏州市, 江苏省, 中国\n",
      "Suzhou, China \n",
      " 苏州市, 江苏省, 中国\n",
      "Suzhou, China \n",
      " 苏州市, 江苏省, 中国\n",
      "Suzhou, China \n",
      " 苏州市, 江苏省, 中国\n",
      "Suzhou, China \n",
      " 苏州市, 江苏省, 中国\n",
      "Los Angeles, CA \n",
      " California, United States\n",
      "Berkeley CA, USA \n",
      " Berkeley, Alameda County, California, United States\n"
     ]
    }
   ],
   "execution_count": 20
  },
  {
   "cell_type": "code",
   "metadata": {
    "collapsed": false,
    "ExecuteTime": {
     "end_time": "2025-02-18T11:24:13.189645Z",
     "start_time": "2025-02-18T11:24:13.183354Z"
    }
   },
   "source": [
    "m = getorg.orgmap.create_map_obj()\n",
    "getorg.orgmap.output_html_cluster_map(location_dict, folder_name=\"./activitymap\", hashed_usernames=False)"
   ],
   "outputs": [
    {
     "data": {
      "text/plain": [
       "'Written map to ./activitymap/'"
      ]
     },
     "execution_count": 22,
     "metadata": {},
     "output_type": "execute_result"
    }
   ],
   "execution_count": 22
  },
  {
   "cell_type": "code",
   "execution_count": null,
   "metadata": {
    "collapsed": true
   },
   "outputs": [],
   "source": []
  }
 ],
 "metadata": {
  "anaconda-cloud": {},
  "kernelspec": {
   "display_name": "Python 3 (ipykernel)",
   "language": "python",
   "name": "python3"
  },
  "language_info": {
   "codemirror_mode": {
    "name": "ipython",
    "version": 3
   },
   "file_extension": ".py",
   "mimetype": "text/x-python",
   "name": "python",
   "nbconvert_exporter": "python",
   "pygments_lexer": "ipython3",
   "version": "3.5.2"
  }
 },
 "nbformat": 4,
 "nbformat_minor": 0
}
